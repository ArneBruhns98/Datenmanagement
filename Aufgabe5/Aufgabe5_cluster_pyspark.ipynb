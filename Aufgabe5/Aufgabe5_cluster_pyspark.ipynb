{
 "cells": [
  {
   "cell_type": "markdown",
   "metadata": {},
   "source": [
    "# Aufgabe 5"
   ]
  },
  {
   "cell_type": "markdown",
   "metadata": {},
   "source": [
    "## Einlesen der Daten"
   ]
  },
  {
   "cell_type": "code",
   "execution_count": 1,
   "metadata": {},
   "outputs": [],
   "source": [
    "from pyspark.sql import SparkSession\n",
    "spark = SparkSession.builder.master(\"local[*]\").getOrCreate()\n",
    "sc = spark.sparkContext\n",
    "\n",
    "\n",
    "df = spark.read.option(\"header\", \"true\").option(\"delimiter\", \"\\t\").csv(\"gs://oncampus/webshop/iw_customer.txt\")"
   ]
  },
  {
   "cell_type": "markdown",
   "metadata": {},
   "source": [
    "## Anzahl der Datensätze"
   ]
  },
  {
   "cell_type": "code",
   "execution_count": 2,
   "metadata": {},
   "outputs": [
    {
     "data": {
      "text/plain": [
       "247065"
      ]
     },
     "execution_count": 2,
     "metadata": {},
     "output_type": "execute_result"
    }
   ],
   "source": [
    "df.count()"
   ]
  },
  {
   "cell_type": "markdown",
   "metadata": {},
   "source": [
    "## Ausgabe der ersten 5 Kunden"
   ]
  },
  {
   "cell_type": "code",
   "execution_count": 3,
   "metadata": {},
   "outputs": [
    {
     "name": "stdout",
     "output_type": "stream",
     "text": [
      "+-----+----------+----------+---------+-------+--------+-----------+-------------+-------------+----------+--------------------+--------+------+-----------+\n",
      "|owner|customerNo|salutation|firstname|surname|postcode|       city|       street|        eMail|newsletter|           birthdate|  riskID|credit|creditLimit|\n",
      "+-----+----------+----------+---------+-------+--------+-----------+-------------+-------------+----------+--------------------+--------+------+-----------+\n",
      "|   IW| KNR000001|      Frau|    Abcde|Hijklmn|   65232|Taunusstein|Opqrst-Street|mail@mail.com|         1|1968-01-07 00:00:...|69918055|   400|          1|\n",
      "|   IW| KNR000002|      Frau|    Abcde|Hijklmn|   26904|     Börger|Opqrst-Street|mail@mail.com|         0|1978-10-10 00:00:...|92843675|  1000|          1|\n",
      "|   IW| KNR000003|      Frau|    Abcde|Hijklmn|   78333|   Stockach|Opqrst-Street|mail@mail.com|         1|1967-04-29 00:00:...|11272894|     0|          2|\n",
      "|   IW| KNR000011|      Frau|    Abcde|Hijklmn|   79618|Rheinfelden|Opqrst-Street|mail@mail.com|         1|1974-10-21 00:00:...|86364865|   400|          1|\n",
      "|   IW| KNR000020|      Frau|    Abcde|Hijklmn|   64625|   Bensheim|Opqrst-Street|mail@mail.com|         1|1969-03-23 00:00:...|79987284|   500|          1|\n",
      "+-----+----------+----------+---------+-------+--------+-----------+-------------+-------------+----------+--------------------+--------+------+-----------+\n",
      "only showing top 5 rows\n",
      "\n"
     ]
    }
   ],
   "source": [
    "df.show(5)"
   ]
  },
  {
   "cell_type": "markdown",
   "metadata": {},
   "source": [
    "## Entfernung der Attribute  'owner', 'firstname', 'lastname', 'street', 'eMail'\n"
   ]
  },
  {
   "cell_type": "code",
   "execution_count": 4,
   "metadata": {},
   "outputs": [],
   "source": [
    "df = df.drop('owner','firstname','surname','street','eMail') # surname gemeint statt lastname aus Aufgabe?"
   ]
  },
  {
   "cell_type": "code",
   "execution_count": 5,
   "metadata": {},
   "outputs": [
    {
     "name": "stdout",
     "output_type": "stream",
     "text": [
      "+----------+----------+--------+-----------+----------+--------------------+--------+------+-----------+\n",
      "|customerNo|salutation|postcode|       city|newsletter|           birthdate|  riskID|credit|creditLimit|\n",
      "+----------+----------+--------+-----------+----------+--------------------+--------+------+-----------+\n",
      "| KNR000001|      Frau|   65232|Taunusstein|         1|1968-01-07 00:00:...|69918055|   400|          1|\n",
      "| KNR000002|      Frau|   26904|     Börger|         0|1978-10-10 00:00:...|92843675|  1000|          1|\n",
      "| KNR000003|      Frau|   78333|   Stockach|         1|1967-04-29 00:00:...|11272894|     0|          2|\n",
      "| KNR000011|      Frau|   79618|Rheinfelden|         1|1974-10-21 00:00:...|86364865|   400|          1|\n",
      "| KNR000020|      Frau|   64625|   Bensheim|         1|1969-03-23 00:00:...|79987284|   500|          1|\n",
      "+----------+----------+--------+-----------+----------+--------------------+--------+------+-----------+\n",
      "only showing top 5 rows\n",
      "\n"
     ]
    }
   ],
   "source": [
    "df.show(5)"
   ]
  },
  {
   "cell_type": "markdown",
   "metadata": {},
   "source": [
    "##  Entfernung aller Kunden, die vor 1900 geboren worden sind"
   ]
  },
  {
   "cell_type": "code",
   "execution_count": 6,
   "metadata": {},
   "outputs": [
    {
     "name": "stdout",
     "output_type": "stream",
     "text": [
      "+----------+----------+--------+-----------+----------+--------------------+--------+------+-----------+\n",
      "|customerNo|salutation|postcode|       city|newsletter|           birthdate|  riskID|credit|creditLimit|\n",
      "+----------+----------+--------+-----------+----------+--------------------+--------+------+-----------+\n",
      "| KNR000001|      Frau|   65232|Taunusstein|         1|1968-01-07 00:00:...|69918055|   400|          1|\n",
      "| KNR000002|      Frau|   26904|     Börger|         0|1978-10-10 00:00:...|92843675|  1000|          1|\n",
      "| KNR000003|      Frau|   78333|   Stockach|         1|1967-04-29 00:00:...|11272894|     0|          2|\n",
      "| KNR000011|      Frau|   79618|Rheinfelden|         1|1974-10-21 00:00:...|86364865|   400|          1|\n",
      "| KNR000020|      Frau|   64625|   Bensheim|         1|1969-03-23 00:00:...|79987284|   500|          1|\n",
      "+----------+----------+--------+-----------+----------+--------------------+--------+------+-----------+\n",
      "only showing top 5 rows\n",
      "\n"
     ]
    }
   ],
   "source": [
    "df.createOrReplaceTempView(\"df\")\n",
    "df = spark.sql(\"SELECT * FROM df WHERE YEAR(birthdate) >= 1900\")\n",
    "\n",
    "df.show(5)"
   ]
  },
  {
   "cell_type": "markdown",
   "metadata": {},
   "source": [
    "## Umbenennung des Attributs birthdate in birthyear und Anpassung der Daten"
   ]
  },
  {
   "cell_type": "code",
   "execution_count": 7,
   "metadata": {},
   "outputs": [
    {
     "name": "stdout",
     "output_type": "stream",
     "text": [
      "+----------+----------+--------+-----------+----------+---------+--------+------+-----------+\n",
      "|customerNo|salutation|postcode|       city|newsletter|birthyear|  riskId|credit|creditLimit|\n",
      "+----------+----------+--------+-----------+----------+---------+--------+------+-----------+\n",
      "| KNR000001|      Frau|   65232|Taunusstein|         1|     1968|69918055|   400|          1|\n",
      "| KNR000002|      Frau|   26904|     Börger|         0|     1978|92843675|  1000|          1|\n",
      "| KNR000003|      Frau|   78333|   Stockach|         1|     1967|11272894|     0|          2|\n",
      "| KNR000011|      Frau|   79618|Rheinfelden|         1|     1974|86364865|   400|          1|\n",
      "| KNR000020|      Frau|   64625|   Bensheim|         1|     1969|79987284|   500|          1|\n",
      "+----------+----------+--------+-----------+----------+---------+--------+------+-----------+\n",
      "only showing top 5 rows\n",
      "\n"
     ]
    }
   ],
   "source": [
    "df = df.withColumnRenamed(\"birthdate\", \"birthyear\")\n",
    "\n",
    "df.createOrReplaceTempView(\"df\")\n",
    "df = spark.sql(\"SELECT customerNo, salutation, postcode, city, newsletter, YEAR(birthyear) as birthyear, riskId, credit, creditLimit FROM df\")\n",
    "df.show(5)"
   ]
  },
  {
   "cell_type": "markdown",
   "metadata": {},
   "source": [
    "## Umbenennung der Spalte salutation und Anpassung der Daten je nach Inhalt"
   ]
  },
  {
   "cell_type": "code",
   "execution_count": 8,
   "metadata": {},
   "outputs": [
    {
     "name": "stdout",
     "output_type": "stream",
     "text": [
      "+----------+--------+--------+--------------------+----------+---------+--------+------+-----------+\n",
      "|customerNo|  gender|postcode|                city|newsletter|birthyear|  riskId|credit|creditLimit|\n",
      "+----------+--------+--------+--------------------+----------+---------+--------+------+-----------+\n",
      "| KNR000001|weiblich|   65232|         Taunusstein|         1|     1968|69918055|   400|          1|\n",
      "| KNR000002|weiblich|   26904|              Börger|         0|     1978|92843675|  1000|          1|\n",
      "| KNR000003|weiblich|   78333|            Stockach|         1|     1967|11272894|     0|          2|\n",
      "| KNR000011|weiblich|   79618|         Rheinfelden|         1|     1974|86364865|   400|          1|\n",
      "| KNR000020|weiblich|   64625|            Bensheim|         1|     1969|79987284|   500|          1|\n",
      "| KNR000022|männlich|   45138|               Essen|         1|     1957|87651195|   400|          1|\n",
      "| KNR000023|weiblich|   31812|         Bad Pyrmont|         1|     1967|87159767|   500|          1|\n",
      "| KNR000030|weiblich|   83278|          Traunstein|         1|     1972|58129094|   500|          1|\n",
      "| KNR000031|weiblich|   88682|               Salem|         1|     1970|14537394|   600|          1|\n",
      "| KNR000032|weiblich|   78050|Villingen-Schwenn...|         1|     1966|67866584|   700|          1|\n",
      "+----------+--------+--------+--------------------+----------+---------+--------+------+-----------+\n",
      "only showing top 10 rows\n",
      "\n"
     ]
    }
   ],
   "source": [
    "df = df.withColumnRenamed(\"salutation\", \"gender\")\n",
    "df.createOrReplaceTempView(\"df\")\n",
    "df = spark.sql(\"SELECT customerNo, CASE gender WHEN 'Frau' THEN 'weiblich' WHEN 'Herr' THEN 'männlich' END as gender, postcode, city, newsletter, birthyear, riskId, credit, creditLimit FROM df\")\n",
    "\n",
    "df.show(10)"
   ]
  },
  {
   "cell_type": "markdown",
   "metadata": {},
   "source": [
    "## Hinzufügen einer Spalte 'state' und joinen nach PLZ"
   ]
  },
  {
   "cell_type": "code",
   "execution_count": 10,
   "metadata": {},
   "outputs": [
    {
     "name": "stdout",
     "output_type": "stream",
     "text": [
      "+----------+--------+--------+-----------+----------+---------+--------+------+-----------+-----------------+\n",
      "|customerNo|  gender|postcode|       city|newsletter|birthyear|  riskId|credit|creditLimit|            state|\n",
      "+----------+--------+--------+-----------+----------+---------+--------+------+-----------+-----------------+\n",
      "| KNR000001|weiblich|   65232|Taunusstein|         1|     1968|69918055|   400|          1|           Hessen|\n",
      "| KNR000002|weiblich|   26904|     Börger|         0|     1978|92843675|  1000|          1|    Niedersachsen|\n",
      "| KNR000003|weiblich|   78333|   Stockach|         1|     1967|11272894|     0|          2|Baden-Württemberg|\n",
      "| KNR000011|weiblich|   79618|Rheinfelden|         1|     1974|86364865|   400|          1|Baden-Württemberg|\n",
      "| KNR000020|weiblich|   64625|   Bensheim|         1|     1969|79987284|   500|          1|           Hessen|\n",
      "+----------+--------+--------+-----------+----------+---------+--------+------+-----------+-----------------+\n",
      "only showing top 5 rows\n",
      "\n"
     ]
    }
   ],
   "source": [
    "from pyspark.sql.functions import col\n",
    "#join \n",
    "plz_df = spark.read.option(\"header\", \"true\").option(\"delimiter\", \"\\t\").csv(\"gs://oncampus/webshop/plz_mapping.txt\")\n",
    "\n",
    "df = df.join(plz_df, col('postcode') == col('PLZ'), 'leftouter').drop('kreis','Typ','PLZ')\n",
    "\n",
    "df = df.withColumnRenamed(\"Bundesland\", \"state\")\n",
    "\n",
    "df.show(5)\n"
   ]
  },
  {
   "cell_type": "markdown",
   "metadata": {},
   "source": [
    "## Persistieren der Tabelle als 'customer'"
   ]
  },
  {
   "cell_type": "code",
   "execution_count": 11,
   "metadata": {},
   "outputs": [],
   "source": [
    "df.createOrReplaceTempView(\"df\")\n",
    "\n",
    "spark.sql(\"create table customer as select * from df\");"
   ]
  },
  {
   "cell_type": "markdown",
   "metadata": {},
   "source": [
    "## Erstellung eines df mit eindeutigen Kunden anhand der riskId und Persistieren"
   ]
  },
  {
   "cell_type": "code",
   "execution_count": 17,
   "metadata": {},
   "outputs": [
    {
     "data": {
      "text/plain": [
       "DataFrame[]"
      ]
     },
     "execution_count": 17,
     "metadata": {},
     "output_type": "execute_result"
    }
   ],
   "source": [
    "from pyspark.sql.functions import collect_list\n",
    "\n",
    "df.createOrReplaceTempView(\"df\")\n",
    "\n",
    "df_unique = df.dropDuplicates(subset=['riskId'])\n",
    "\n",
    "df_unique.createOrReplaceTempView(\"df_unique\")\n",
    "\n",
    "df_unique.count()\n",
    "\n",
    "spark.sql(\"CREATE TABLE uniqueCustomers as SELECT * from df_unique\")"
   ]
  },
  {
   "cell_type": "markdown",
   "metadata": {},
   "source": [
    "## Erstellung eines Kreisdiagramms über die Geschlechtsverteilung"
   ]
  },
  {
   "cell_type": "code",
   "execution_count": 18,
   "metadata": {},
   "outputs": [
    {
     "data": {
      "image/png": "[encoded data removed]",
      "text/plain": [
       "<Figure size 432x288 with 1 Axes>"
      ]
     },
     "metadata": {},
     "output_type": "display_data"
    }
   ],
   "source": [
    "import matplotlib.pyplot as plt\n",
    "\n",
    "df_unique.createOrReplaceTempView(\"df_unique\")\n",
    "\n",
    "female = spark.sql(\"SELECT COUNT(gender) FROM df_unique WHERE gender == 'weiblich'\").first()[0]\n",
    "\n",
    "male = spark.sql(\"SELECT COUNT(gender) FROM df_unique WHERE gender == 'männlich'\").first()[0]\n",
    "\n",
    "# Data to plot\n",
    "labels = 'weiblich', 'männlich'\n",
    "sizes = [female, male]\n",
    "colors = ['gold', 'yellowgreen']\n",
    "explode = (0.1, 0)  # explode 1st slice\n",
    "\n",
    "# Plot\n",
    "plt.pie(sizes, explode=explode, labels=labels, colors=colors,\n",
    "autopct='%1.1f%%', shadow=True, startangle=140)\n",
    "\n",
    "plt.axis('equal')\n",
    "plt.show()"
   ]
  },
  {
   "cell_type": "markdown",
   "metadata": {},
   "source": [
    "##   Erstellung eines Balkendiagramm, dass die Verteilung der Kunden je Bundesland und je Geschlecht visualisiert. Die Verteilung ist absteigend sortiert nach Häufigkeit der  Kunden je Bundesland.\n"
   ]
  },
  {
   "cell_type": "code",
   "execution_count": 19,
   "metadata": {},
   "outputs": [
    {
     "name": "stdout",
     "output_type": "stream",
     "text": [
      "+-----+----+-----+--------------------+\n",
      "|   ft|  mt|   at|          stateTotal|\n",
      "+-----+----+-----+--------------------+\n",
      "|18489|5181|23641| Nordrhein-Westfalen|\n",
      "|16014|4034|20053|              Bayern|\n",
      "|13194|3173|16371|   Baden-Württemberg|\n",
      "| 8110|1848| 9960|              Hessen|\n",
      "| 7730|2002| 9725|       Niedersachsen|\n",
      "| 4214|1021| 5237|     Rheinland-Pfalz|\n",
      "| 3080|1365| 4440|              Berlin|\n",
      "| 3173| 744| 3924|  Schleswig-Holstein|\n",
      "| 2796| 749| 3554|             Hamburg|\n",
      "| 2288| 631| 2909|             Sachsen|\n",
      "| 1314| 384| 1695|           Thüringen|\n",
      "| 1223| 369| 1594|      Sachsen-Anhalt|\n",
      "| 1139| 291| 1432|         Brandenburg|\n",
      "| 1077| 267| 1340|Mecklenburg-Vorpo...|\n",
      "|  602| 182|  788|              Bremen|\n",
      "|  592| 155|  748|            Saarland|\n",
      "+-----+----+-----+--------------------+\n",
      "\n"
     ]
    },
    {
     "data": {
      "text/plain": [
       "<Figure size 1920x1600 with 0 Axes>"
      ]
     },
     "metadata": {},
     "output_type": "display_data"
    },
    {
     "data": {
      "image/png": "[encoded data removed]",
      "text/plain": [
       "<Figure size 432x288 with 1 Axes>"
      ]
     },
     "metadata": {
      "needs_background": "light"
     },
     "output_type": "display_data"
    }
   ],
   "source": [
    "df_unique.createOrReplaceTempView(\"df_unique\")\n",
    "\n",
    "female_df = spark.sql(\"SELECT COUNT(customerNo) as ft, state as statef FROM df_unique WHERE gender == 'weiblich' GROUP BY state\")\n",
    "\n",
    "male_df = spark.sql(\"SELECT COUNT(customerNo) as mt, state as statem FROM df_unique WHERE gender == 'männlich' GROUP BY state\")\n",
    "\n",
    "total_df = spark.sql(\"SELECT COUNT(customerNo) as at, state as stateTotal FROM df_unique GROUP BY state\")                    \n",
    "\n",
    "complete_df = female_df.join(male_df, col('statef') == col('statem')).join(total_df, col('statef') == col('stateTotal')).drop('statef', 'statem').orderBy('at', ascending=False)\n",
    "                    \n",
    "complete_df.show()\n",
    "\n",
    "\n",
    "import matplotlib\n",
    "import matplotlib.pyplot as plt\n",
    "import numpy as np\n",
    "\n",
    "\n",
    "men_means = complete_df.select('mt').rdd.map(lambda r: r[0]).collect()\n",
    "women_means = complete_df.select('ft').rdd.map(lambda r: r[0]).collect()\n",
    "\n",
    "ind = np.arange(len(men_means))  # the x locations for the groups\n",
    "width = 0.35  # the width of the bars\n",
    "\n",
    "fig=plt.figure(figsize=(24, 20), dpi= 80)\n",
    "\n",
    "fig, ax = plt.subplots()\n",
    "rects1 = ax.bar(ind - width/2, men_means, width, label='Men')\n",
    "rects2 = ax.bar(ind + width/2, women_means, width, label='Women')\n",
    "\n",
    "ax.set_ylabel('Amount of people')\n",
    "ax.set_title('People per gender per state')\n",
    "ax.set_xticks(ind)\n",
    "ax.set_xticklabels(complete_df.select('stateTotal').rdd.map(lambda r: r[0]).collect())\n",
    "ax.legend()\n",
    "\n",
    "\n",
    "def autolabel(rects, xpos='center'):\n",
    "    ha = {'center': 'center', 'right': 'left', 'left': 'right'}\n",
    "    offset = {'center': 0, 'right': 1, 'left': -1}\n",
    "\n",
    "    for rect in rects:\n",
    "        height = rect.get_height()\n",
    "        ax.annotate('{}'.format(height),\n",
    "                    xy=(rect.get_x() + rect.get_width() / 2, height),\n",
    "                    xytext=(offset[xpos]*3, 3),  # use 3 points offset\n",
    "                    textcoords=\"offset points\",  # in both directions\n",
    "                    ha=ha[xpos], va='bottom')\n",
    "\n",
    "\n",
    "autolabel(rects1, \"left\")\n",
    "autolabel(rects2, \"right\")\n",
    "\n",
    "fig.tight_layout()\n",
    "\n",
    "plt.show()"
   ]
  },
  {
   "cell_type": "markdown",
   "metadata": {},
   "source": [
    "## Einlesen der Umsätze und Retouren für weitere dispositive Fragestellungen"
   ]
  },
  {
   "cell_type": "code",
   "execution_count": 25,
   "metadata": {},
   "outputs": [
    {
     "name": "stdout",
     "output_type": "stream",
     "text": [
      "+-----+-------+---------+----------+----+-------------+--------+------+----------+-----------+----------+---------------+--------------------+--------------------+\n",
      "|owner|line_No|  orderNo|customerNo|type|         IWAN|quantity|amount|vat_amount|line_amount|VATpercent|bill_customerNo|           orderDate|         postingDate|\n",
      "+-----+-------+---------+----------+----+-------------+--------+------+----------+-----------+----------+---------------+--------------------+--------------------+\n",
      "|   IW|      3|ORD003892| KNR765310|   2|2534460662171|       1| 33.53|     39.90|      39.90|        19|      KNR765310|2010-05-11 00:00:...|2010-05-17 00:00:...|\n",
      "|   IW|      2|ORD003892| KNR765310|   2|2534160651495|       1| 33.53|     39.90|      39.90|        19|      KNR765310|2010-05-11 00:00:...|2010-05-17 00:00:...|\n",
      "|   IW|      1|ORD003892| KNR765310|   2|2534550694026|       1| 33.53|     39.90|      39.90|        19|      KNR765310|2010-05-11 00:00:...|2010-05-17 00:00:...|\n",
      "|   IW|      4|ORD003892| KNR765310|   2|2534460624759|       2| 41.93|     49.90|      99.80|        19|      KNR765310|2010-05-11 00:00:...|2010-05-17 00:00:...|\n",
      "|   IW|      5|ORD003895| KNR075310|   2|2534560660228|       1| 29.33|     34.90|      34.90|        19|      KNR075310|2010-05-11 00:00:...|2010-05-17 00:00:...|\n",
      "+-----+-------+---------+----------+----+-------------+--------+------+----------+-----------+----------+---------------+--------------------+--------------------+\n",
      "only showing top 5 rows\n",
      "\n",
      "+-----+---------+---------+-----------+-----------+-------------+----------+---------------+--------------------+--------------------+\n",
      "|owner| returnNo|  orderNo|paymentCode| returnType|shippingAgent|customerNo|bill_customerNo|        shipmentDate|         postingDate|\n",
      "+-----+---------+---------+-----------+-----------+-------------+----------+---------------+--------------------+--------------------+\n",
      "|   IW|Ret000150|ORD000849|       BILL|CUSTOMER_RA|          DHL| KNR828010|      KNR828010|2010-05-19 00:00:...|2010-05-19 00:00:...|\n",
      "|   IW|Ret000151|ORD000480|       BILL|CUSTOMER_RA|          DHL| KNR374010|      KNR374010|2010-05-19 00:00:...|2010-05-19 00:00:...|\n",
      "|   IW|Ret000152|ORD000317|       BILL|CUSTOMER_RA|       HERMES| KNR413010|      KNR413010|2010-05-19 00:00:...|2010-05-19 00:00:...|\n",
      "|   IW|Ret000153|ORD000533|       BILL|CUSTOMER_RA|          DHL| KNR425010|      KNR425010|2010-05-19 00:00:...|2010-05-19 00:00:...|\n",
      "|   IW|Ret000158|ORD000997|       BILL|CUSTOMER_RA|          DHL| KNR369010|      KNR369010|2010-05-19 00:00:...|2010-05-19 00:00:...|\n",
      "+-----+---------+---------+-----------+-----------+-------------+----------+---------------+--------------------+--------------------+\n",
      "only showing top 5 rows\n",
      "\n"
     ]
    }
   ],
   "source": [
    "sales = spark.read.option(\"header\", \"true\").option(\"delimiter\", \"\\t\").csv(\"gs://oncampus/webshop/iw_sales.txt\")\n",
    "\n",
    "sales.show(5)\n",
    "\n",
    "returns = spark.read.option(\"header\", \"true\").option(\"delimiter\", \"\\t\").csv(\"gs://oncampus/webshop/iw_return_header.txt\")\n",
    "\n",
    "returns.show(5)"
   ]
  },
  {
   "cell_type": "markdown",
   "metadata": {},
   "source": [
    "## Gruppierung der Umsätze des Jahres 2011 je Monat in einem Balkendiagramm"
   ]
  },
  {
   "cell_type": "code",
   "execution_count": 21,
   "metadata": {},
   "outputs": [
    {
     "data": {
      "image/png": "[encoded data removed]",
      "text/plain": [
       "<Figure size 640x480 with 1 Axes>"
      ]
     },
     "metadata": {},
     "output_type": "display_data"
    }
   ],
   "source": [
    "sales.createOrReplaceTempView(\"sales\")\n",
    "\n",
    "sales_df = spark.sql(\"SELECT MONTH(orderDate) as month, SUM(line_amount) as sales FROM sales WHERE YEAR(orderDate) == 2011 GROUP BY MONTH(orderDate) ORDER BY MONTH(orderDate)\")\n",
    "\n",
    "import matplotlib.pyplot as plt; plt.rcdefaults()\n",
    "import numpy as np\n",
    "import matplotlib.pyplot as plt\n",
    "\n",
    "objects = sales_df.select('month').rdd.map(lambda r: r[0]).collect()\n",
    "y_pos = np.arange(len(objects))\n",
    "performance = sales_df.select('sales').rdd.map(lambda r: r[0]).collect()\n",
    "\n",
    "plt.bar(y_pos, performance, align='center', alpha=0.5)\n",
    "plt.xticks(y_pos, objects)\n",
    "plt.ylabel('Sales')\n",
    "plt.title('Month')\n",
    "\n",
    "plt.show()"
   ]
  },
  {
   "cell_type": "markdown",
   "metadata": {},
   "source": [
    "## Bestellungen eines eindeutigen Kunden im Durchschnitt"
   ]
  },
  {
   "cell_type": "code",
   "execution_count": 22,
   "metadata": {},
   "outputs": [
    {
     "name": "stdout",
     "output_type": "stream",
     "text": [
      "+-------------------------+\n",
      "|AvgOrderPerUniqueCustomer|\n",
      "+-------------------------+\n",
      "|       7.6018521958831835|\n",
      "+-------------------------+\n",
      "\n"
     ]
    }
   ],
   "source": [
    "sales.createOrReplaceTempView(\"avg\")\n",
    "\n",
    "count_per_customerNo = spark.sql(\"SELECT COUNT(orderNo) as cOrder, customerNo as cNo FROM avg GROUP BY customerNo\")\n",
    "\n",
    "\n",
    "df_with_count = df.join(count_per_customerNo, col('df.customerNo') == col('cNo')).drop('cNo')\n",
    "\n",
    "df_with_count.createOrReplaceTempView(\"df_with_count\")\n",
    "\n",
    "spark.sql(\"SELECT AVG(sum) as AvgOrderPerUniqueCustomer FROM (SELECT SUM(cOrder) as sum FROM df_with_count GROUP BY riskId)\").show()"
   ]
  },
  {
   "cell_type": "markdown",
   "metadata": {},
   "source": [
    "## Durchschnittliche Anzahl an Bestellpositionen und der durchschnittliche Gesamtbetrag einer Bestellung\n"
   ]
  },
  {
   "cell_type": "code",
   "execution_count": 23,
   "metadata": {},
   "outputs": [
    {
     "name": "stdout",
     "output_type": "stream",
     "text": [
      "+-----------------------------+-------------------------+\n",
      "|DurchschnittsPositionenanzahl|Durchschnittsgesamtbetrag|\n",
      "+-----------------------------+-------------------------+\n",
      "|           3.2991338274829407|       187.81201589662425|\n",
      "+-----------------------------+-------------------------+\n",
      "\n"
     ]
    }
   ],
   "source": [
    "sales.createOrReplaceTempView(\"avg\")\n",
    "\n",
    "spark.sql(\"SELECT AVG(positions) as DurchschnittsPositionenanzahl, AVG(total) as Durchschnittsgesamtbetrag FROM (SELECT orderNo, COUNT(orderNo) as positions, SUM(line_amount) as total FROM avg GROUP BY orderNo)\").show(10)"
   ]
  },
  {
   "cell_type": "markdown",
   "metadata": {},
   "source": [
    "## Die Anzahl der Bestellpositionen und die Anzahl der retournierten Positionen je Bundesland und Retourenquote je Bundesland und insgesamt\n"
   ]
  },
  {
   "cell_type": "code",
   "execution_count": 24,
   "metadata": {
    "scrolled": true
   },
   "outputs": [
    {
     "name": "stdout",
     "output_type": "stream",
     "text": [
      "+-----------------------+----------------------------+--------------------+\n",
      "|AnzahlBestellpositionen|AnzahlRetourniertePositionen|               state|\n",
      "+-----------------------+----------------------------+--------------------+\n",
      "|                  14435|                       10013|      Sachsen-Anhalt|\n",
      "|                  78069|                       52079|       Niedersachsen|\n",
      "|                  12190|                        8084|         Brandenburg|\n",
      "|                  26903|                       16448|              Berlin|\n",
      "|                   1530|                         926|                null|\n",
      "|                 169212|                      114297|              Bayern|\n",
      "|                  27206|                       18972|             Sachsen|\n",
      "|                  22745|                       13589|             Hamburg|\n",
      "|                   5093|                        2961|              Bremen|\n",
      "|                 177997|                      113655| Nordrhein-Westfalen|\n",
      "|                  17183|                       12630|           Thüringen|\n",
      "|                  79369|                       52172|              Hessen|\n",
      "|                 136017|                       91889|   Baden-Württemberg|\n",
      "|                  11709|                        8073|Mecklenburg-Vorpo...|\n",
      "|                   6215|                        4079|            Saarland|\n",
      "|                  30185|                       19428|  Schleswig-Holstein|\n",
      "|                  43658|                       29365|     Rheinland-Pfalz|\n",
      "+-----------------------+----------------------------+--------------------+\n",
      "\n",
      "+----------+--------------------+\n",
      "|ReturnRate|               state|\n",
      "+----------+--------------------+\n",
      "|      0.69|      Sachsen-Anhalt|\n",
      "|      0.67|       Niedersachsen|\n",
      "|      0.66|         Brandenburg|\n",
      "|      0.61|              Berlin|\n",
      "|      0.61|                null|\n",
      "|      0.68|              Bayern|\n",
      "|       0.7|             Sachsen|\n",
      "|       0.6|             Hamburg|\n",
      "|      0.58|              Bremen|\n",
      "|      0.64| Nordrhein-Westfalen|\n",
      "|      0.74|           Thüringen|\n",
      "|      0.66|              Hessen|\n",
      "|      0.68|   Baden-Württemberg|\n",
      "|      0.69|Mecklenburg-Vorpo...|\n",
      "|      0.66|            Saarland|\n",
      "|      0.64|  Schleswig-Holstein|\n",
      "|      0.67|     Rheinland-Pfalz|\n",
      "+----------+--------------------+\n",
      "\n",
      "+------------------------+\n",
      "|TotalReturnRateInPercent|\n",
      "+------------------------+\n",
      "|                    66.0|\n",
      "+------------------------+\n",
      "\n"
     ]
    }
   ],
   "source": [
    "order_with_customer_and_returns = sales.join(df, ['customerNo'], 'left').join(returns.withColumnRenamed(\"orderNo\", \"orderNor\"), ['customerNo'], 'left').drop('orderNor')\n",
    "\n",
    "order_with_customer_and_returns.createOrReplaceTempView(\"owcar\")\n",
    "\n",
    "order_and_return_counts = spark.sql(\"SELECT COUNT(orderNo) as AnzahlBestellpositionen, COUNT(returnNo) as AnzahlRetourniertePositionen, state FROM owcar GROUP BY state\")\n",
    "\n",
    "order_and_return_counts.show()\n",
    "\n",
    "order_and_return_counts.createOrReplaceTempView(\"oarc\")\n",
    "\n",
    "spark.sql(\"SELECT ROUND(AnzahlRetourniertePositionen / AnzahlBestellpositionen, 2) AS ReturnRate, state FROM oarc\").show()\n",
    "\n",
    "spark.sql(\"SELECT ROUND(SUM(AnzahlRetourniertePositionen) / SUM(AnzahlBestellpositionen), 2) * 100 as TotalReturnRateInPercent FROM oarc\").show()"
   ]
  }
 ],
 "metadata": {
  "kernelspec": {
   "display_name": "PySpark",
   "language": "python",
   "name": "pyspark"
  },
  "language_info": {
   "codemirror_mode": {
    "name": "ipython",
    "version": 3
   },
   "file_extension": ".py",
   "mimetype": "text/x-python",
   "name": "python",
   "nbconvert_exporter": "python",
   "pygments_lexer": "ipython3",
   "version": "3.6.5"
  }
 },
 "nbformat": 4,
 "nbformat_minor": 2
}
