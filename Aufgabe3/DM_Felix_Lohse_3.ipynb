{
 "cells": [
  {
   "cell_type": "markdown",
   "metadata": {},
   "source": [
    "**Teilaufgabe a) Ausgabe**"
   ]
  },
  {
   "cell_type": "code",
   "execution_count": 1,
   "metadata": {},
   "outputs": [
    {
     "data": {
      "text/html": [
       "<div>\n",
       "<style scoped>\n",
       "    .dataframe tbody tr th:only-of-type {\n",
       "        vertical-align: middle;\n",
       "    }\n",
       "\n",
       "    .dataframe tbody tr th {\n",
       "        vertical-align: top;\n",
       "    }\n",
       "\n",
       "    .dataframe thead th {\n",
       "        text-align: right;\n",
       "    }\n",
       "</style>\n",
       "<table border=\"1\" class=\"dataframe\">\n",
       "  <thead>\n",
       "    <tr style=\"text-align: right;\">\n",
       "      <th></th>\n",
       "      <th>Distance</th>\n",
       "      <th>Hang</th>\n",
       "      <th>R_Strength</th>\n",
       "      <th>L_Strength</th>\n",
       "      <th>R_Flexibility</th>\n",
       "      <th>L_Flexibility</th>\n",
       "      <th>O_Strength</th>\n",
       "    </tr>\n",
       "  </thead>\n",
       "  <tbody>\n",
       "    <tr>\n",
       "      <th>0</th>\n",
       "      <td>162.50</td>\n",
       "      <td>4.75</td>\n",
       "      <td>170</td>\n",
       "      <td>170</td>\n",
       "      <td>106</td>\n",
       "      <td>106</td>\n",
       "      <td>240.57</td>\n",
       "    </tr>\n",
       "    <tr>\n",
       "      <th>1</th>\n",
       "      <td>144.00</td>\n",
       "      <td>4.07</td>\n",
       "      <td>140</td>\n",
       "      <td>130</td>\n",
       "      <td>92</td>\n",
       "      <td>93</td>\n",
       "      <td>195.49</td>\n",
       "    </tr>\n",
       "    <tr>\n",
       "      <th>2</th>\n",
       "      <td>147.50</td>\n",
       "      <td>4.04</td>\n",
       "      <td>180</td>\n",
       "      <td>170</td>\n",
       "      <td>93</td>\n",
       "      <td>78</td>\n",
       "      <td>152.99</td>\n",
       "    </tr>\n",
       "    <tr>\n",
       "      <th>3</th>\n",
       "      <td>163.50</td>\n",
       "      <td>4.18</td>\n",
       "      <td>160</td>\n",
       "      <td>160</td>\n",
       "      <td>103</td>\n",
       "      <td>93</td>\n",
       "      <td>197.09</td>\n",
       "    </tr>\n",
       "    <tr>\n",
       "      <th>4</th>\n",
       "      <td>192.00</td>\n",
       "      <td>4.35</td>\n",
       "      <td>170</td>\n",
       "      <td>150</td>\n",
       "      <td>104</td>\n",
       "      <td>93</td>\n",
       "      <td>266.56</td>\n",
       "    </tr>\n",
       "    <tr>\n",
       "      <th>5</th>\n",
       "      <td>171.75</td>\n",
       "      <td>4.16</td>\n",
       "      <td>150</td>\n",
       "      <td>150</td>\n",
       "      <td>101</td>\n",
       "      <td>87</td>\n",
       "      <td>260.56</td>\n",
       "    </tr>\n",
       "    <tr>\n",
       "      <th>6</th>\n",
       "      <td>162.00</td>\n",
       "      <td>4.43</td>\n",
       "      <td>170</td>\n",
       "      <td>180</td>\n",
       "      <td>108</td>\n",
       "      <td>106</td>\n",
       "      <td>219.25</td>\n",
       "    </tr>\n",
       "    <tr>\n",
       "      <th>7</th>\n",
       "      <td>104.93</td>\n",
       "      <td>3.20</td>\n",
       "      <td>110</td>\n",
       "      <td>110</td>\n",
       "      <td>86</td>\n",
       "      <td>92</td>\n",
       "      <td>132.68</td>\n",
       "    </tr>\n",
       "    <tr>\n",
       "      <th>8</th>\n",
       "      <td>105.67</td>\n",
       "      <td>3.02</td>\n",
       "      <td>120</td>\n",
       "      <td>110</td>\n",
       "      <td>90</td>\n",
       "      <td>86</td>\n",
       "      <td>130.24</td>\n",
       "    </tr>\n",
       "    <tr>\n",
       "      <th>9</th>\n",
       "      <td>117.59</td>\n",
       "      <td>3.64</td>\n",
       "      <td>130</td>\n",
       "      <td>120</td>\n",
       "      <td>85</td>\n",
       "      <td>80</td>\n",
       "      <td>205.88</td>\n",
       "    </tr>\n",
       "    <tr>\n",
       "      <th>10</th>\n",
       "      <td>140.25</td>\n",
       "      <td>3.68</td>\n",
       "      <td>120</td>\n",
       "      <td>140</td>\n",
       "      <td>89</td>\n",
       "      <td>83</td>\n",
       "      <td>153.92</td>\n",
       "    </tr>\n",
       "    <tr>\n",
       "      <th>11</th>\n",
       "      <td>150.17</td>\n",
       "      <td>3.60</td>\n",
       "      <td>140</td>\n",
       "      <td>130</td>\n",
       "      <td>92</td>\n",
       "      <td>94</td>\n",
       "      <td>154.64</td>\n",
       "    </tr>\n",
       "    <tr>\n",
       "      <th>12</th>\n",
       "      <td>165.17</td>\n",
       "      <td>3.85</td>\n",
       "      <td>160</td>\n",
       "      <td>150</td>\n",
       "      <td>95</td>\n",
       "      <td>95</td>\n",
       "      <td>240.57</td>\n",
       "    </tr>\n",
       "  </tbody>\n",
       "</table>\n",
       "</div>"
      ],
      "text/plain": [
       "    Distance  Hang  R_Strength  L_Strength  R_Flexibility  L_Flexibility  \\\n",
       "0     162.50  4.75         170         170            106            106   \n",
       "1     144.00  4.07         140         130             92             93   \n",
       "2     147.50  4.04         180         170             93             78   \n",
       "3     163.50  4.18         160         160            103             93   \n",
       "4     192.00  4.35         170         150            104             93   \n",
       "5     171.75  4.16         150         150            101             87   \n",
       "6     162.00  4.43         170         180            108            106   \n",
       "7     104.93  3.20         110         110             86             92   \n",
       "8     105.67  3.02         120         110             90             86   \n",
       "9     117.59  3.64         130         120             85             80   \n",
       "10    140.25  3.68         120         140             89             83   \n",
       "11    150.17  3.60         140         130             92             94   \n",
       "12    165.17  3.85         160         150             95             95   \n",
       "\n",
       "    O_Strength  \n",
       "0       240.57  \n",
       "1       195.49  \n",
       "2       152.99  \n",
       "3       197.09  \n",
       "4       266.56  \n",
       "5       260.56  \n",
       "6       219.25  \n",
       "7       132.68  \n",
       "8       130.24  \n",
       "9       205.88  \n",
       "10      153.92  \n",
       "11      154.64  \n",
       "12      240.57  "
      ]
     },
     "execution_count": 1,
     "metadata": {},
     "output_type": "execute_result"
    }
   ],
   "source": [
    "import pandas as pd\n",
    "\n",
    "\n",
    "dfs = pd.read_csv(\"http://www.statsci.org/data/general/punting.txt\", sep=\"\\t\")\n",
    "dfs"
   ]
  },
  {
   "cell_type": "markdown",
   "metadata": {},
   "source": [
    "**Teilaufgabe c) Streuungsdiagramm**"
   ]
  },
  {
   "cell_type": "code",
   "execution_count": 9,
   "metadata": {},
   "outputs": [
    {
     "data": {
      "text/plain": [
       "<seaborn.axisgrid.PairGrid at 0x183b3d0>"
      ]
     },
     "execution_count": 9,
     "metadata": {},
     "output_type": "execute_result"
    },
    {
     "data": {
      "image/png": "[encoded data removed]",
      "text/plain": [
       "<Figure size 900x180 with 5 Axes>"
      ]
     },
     "metadata": {
      "needs_background": "light"
     },
     "output_type": "display_data"
    }
   ],
   "source": [
    "#Teilaufgabe c) Streuungsdiagramm\n",
    "import seaborn as sns\n",
    "\n",
    "sns.pairplot(dfs, y_vars=[\"Distance\"], x_vars=[\"R_Strength\", \"L_Strength\", \"R_Flexibility\", \"L_Flexibility\", \"O_Strength\"])"
   ]
  },
  {
   "cell_type": "markdown",
   "metadata": {},
   "source": [
    "**Teilaufgabe d) Korrelationskoeffizienten**"
   ]
  },
  {
   "cell_type": "code",
   "execution_count": 13,
   "metadata": {},
   "outputs": [
    {
     "name": "stdout",
     "output_type": "stream",
     "text": [
      "R_Strength       0.791467\n",
      "L_Strength       0.744030\n",
      "R_Flexibility    0.806334\n",
      "L_Flexibility    0.407743\n",
      "O_Strength       0.796187\n",
      "Name: Distance, dtype: float64\n"
     ]
    }
   ],
   "source": [
    "print(dfs.corr()['Distance'][2:])"
   ]
  },
  {
   "cell_type": "markdown",
   "metadata": {},
   "source": [
    "r steht für Korrelationskoeffizient\n",
    "Alle Merkmale sind positiv korreliert. D.h. eine Regressionsgrade je Merkmal wäre steigend. \n",
    "Je näher der Korrelationskoeffizient an der 1 bzw. an der -1 eines Merkmals ist, desto eher kann anhand eines neuen X-Wertes\n",
    "der dazugehörige Y-Wert vorhergesagt werden.\n",
    "\n",
    "Interpretation: \n",
    "Primär hängt die Weite eines Punts von der Gesamtbeinstärke der Beine, der Stärke der einzelnen Beine und der Flexibilität des rechten Beines, dem Schussbein, ab. Die Flexibilität des Standbeines, dem Linken, spielt nur eine eher insignifikante Rolle."
   ]
  },
  {
   "cell_type": "markdown",
   "metadata": {},
   "source": [
    "**Teilaufgabe e) Korrelationskoeffizienten Vergleich**"
   ]
  },
  {
   "cell_type": "code",
   "execution_count": 3,
   "metadata": {},
   "outputs": [
    {
     "name": "stdout",
     "output_type": "stream",
     "text": [
      "0.44400014111142144\n"
     ]
    }
   ],
   "source": [
    "import numpy as np\n",
    "\n",
    "x = dfs.R_Strength[0:3]\n",
    "y = dfs.Distance[0:3]\n",
    "\n",
    "print(np.corrcoef(x, y)[0, 1])"
   ]
  },
  {
   "cell_type": "markdown",
   "metadata": {},
   "source": [
    "**Teilaufgabe f) Bestimmtheitsmaß**"
   ]
  },
  {
   "cell_type": "code",
   "execution_count": 7,
   "metadata": {},
   "outputs": [
    {
     "data": {
      "text/plain": [
       "0.8143749052265045"
      ]
     },
     "execution_count": 7,
     "metadata": {},
     "output_type": "execute_result"
    }
   ],
   "source": [
    "from sklearn.preprocessing import StandardScaler\n",
    "from sklearn.linear_model import LinearRegression\n",
    "from sklearn.metrics import r2_score\n",
    "\n",
    "data = pd.DataFrame(np.c_[dfs[\"R_Strength\"], dfs[\"L_Strength\"], dfs[\"R_Flexibility\"], dfs[\"L_Flexibility\"], dfs[\"O_Strength\"]])\n",
    "\n",
    "distance_scaled = StandardScaler().fit_transform(data)\n",
    "lm = LinearRegression().fit(distance_scaled, dfs['Distance'])\n",
    "\n",
    "r2_score(dfs['Distance'], lm.predict(distance_scaled))"
   ]
  },
  {
   "cell_type": "markdown",
   "metadata": {},
   "source": [
    "**Teilaufgabe g) Visualisierung** \n",
    "\n",
    "\n",
    "Gewählt wird hier R_Flexibility, da er die beste Korrelation bietet."
   ]
  },
  {
   "cell_type": "code",
   "execution_count": 11,
   "metadata": {},
   "outputs": [
    {
     "data": {
      "image/png": "[encoded data removed]",
      "text/plain": [
       "<Figure size 1440x288 with 3 Axes>"
      ]
     },
     "metadata": {
      "needs_background": "light"
     },
     "output_type": "display_data"
    }
   ],
   "source": [
    "import matplotlib.pyplot as pl, seaborn as sns\n",
    "f, axs = pl.subplots(ncols=3, figsize=(20, 4), sharey=True)\n",
    "x = dfs.R_Flexibility\n",
    "y = dfs.Distance\n",
    "for order in range(1, 4):\n",
    "    coefs = np.polyfit(x, y, order) # Regressionskoeffizienten \"fitten\"\n",
    "    p = np.poly1d(coefs) # polynomiale Funktion\n",
    "    r2 = r2_score(y, p(x)) # r² berechnen\n",
    "    sns.regplot(x, y, order=order, ax=axs[order-1], label=\"$R^2$ = \"+ str(r2)) # Ausgabe\n",
    "    axs[order-1].legend(markerscale=0)"
   ]
  },
  {
   "cell_type": "markdown",
   "metadata": {},
   "source": [
    "Anhand der Bestimmtheitsmaße lässt sich hier folgern, dass ein Modell mit einer Funktion 2. Grades ein gutes Modell darstellt. \n",
    "Für Funktionen höheren Grades erzielt man nur eine geringfügige Steigerung des Bestimmtheitsmaßes.\n",
    "Bei einer Funktion ersten Grades ist zu erkennen, dass Punkte die nicht hinzugefügt werden, die es aber grundsätzlich sollten.\n",
    "Wir sehen hier Underfitting.\n",
    "Bei einer Funktion 3. Grades sind viele Freiheitsgrade zu erkennen, was Overfitting bedeutet."
   ]
  },
  {
   "cell_type": "code",
   "execution_count": null,
   "metadata": {},
   "outputs": [],
   "source": []
  }
 ],
 "metadata": {
  "kernelspec": {
   "display_name": "Python 3",
   "language": "python",
   "name": "python3"
  },
  "language_info": {
   "codemirror_mode": {
    "name": "ipython",
    "version": 3
   },
   "file_extension": ".py",
   "mimetype": "text/x-python",
   "name": "python",
   "nbconvert_exporter": "python",
   "pygments_lexer": "ipython3",
   "version": "3.6.7"
  }
 },
 "nbformat": 4,
 "nbformat_minor": 2
}
